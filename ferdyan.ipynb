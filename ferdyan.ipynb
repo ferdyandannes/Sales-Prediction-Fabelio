{
 "cells": [
  {
   "cell_type": "code",
   "execution_count": 1,
   "metadata": {},
   "outputs": [],
   "source": [
    "import numpy as np # linear algebra\n",
    "import pandas as pd # data processing, CSV file I/O (e.g. pd.read_csv)\n",
    "import seaborn as sns; sns.set(style=\"ticks\", color_codes=True)\n",
    "from sklearn.model_selection import train_test_split\n",
    "from sklearn.ensemble import ExtraTreesRegressor, RandomForestRegressor\n",
    "from sklearn.neighbors import KNeighborsRegressor\n",
    "from sklearn.svm import SVR\n",
    "from sklearn.feature_selection import RFE\n",
    "from sklearn.neural_network import MLPRegressor\n",
    "from sklearn.metrics import mean_absolute_error\n",
    "from sklearn.model_selection import KFold\n",
    "import matplotlib.pyplot as plt\n",
    "import seaborn as sns\n",
    "import math"
   ]
  },
  {
   "cell_type": "code",
   "execution_count": 2,
   "metadata": {},
   "outputs": [
    {
     "data": {
      "text/html": [
       "<div>\n",
       "<style scoped>\n",
       "    .dataframe tbody tr th:only-of-type {\n",
       "        vertical-align: middle;\n",
       "    }\n",
       "\n",
       "    .dataframe tbody tr th {\n",
       "        vertical-align: top;\n",
       "    }\n",
       "\n",
       "    .dataframe thead th {\n",
       "        text-align: right;\n",
       "    }\n",
       "</style>\n",
       "<table border=\"1\" class=\"dataframe\">\n",
       "  <thead>\n",
       "    <tr style=\"text-align: right;\">\n",
       "      <th></th>\n",
       "      <th>date</th>\n",
       "      <th>product_sku</th>\n",
       "      <th>price</th>\n",
       "      <th>store</th>\n",
       "      <th>is_promo_item</th>\n",
       "      <th>member_promo</th>\n",
       "      <th>quantity</th>\n",
       "    </tr>\n",
       "  </thead>\n",
       "  <tbody>\n",
       "    <tr>\n",
       "      <th>0</th>\n",
       "      <td>11/29/2019</td>\n",
       "      <td>sku021</td>\n",
       "      <td>147454.56</td>\n",
       "      <td>storeA013</td>\n",
       "      <td>False</td>\n",
       "      <td>True</td>\n",
       "      <td>18.0</td>\n",
       "    </tr>\n",
       "    <tr>\n",
       "      <th>1</th>\n",
       "      <td>1/15/2020</td>\n",
       "      <td>sku022</td>\n",
       "      <td>4303058.84</td>\n",
       "      <td>storeA006</td>\n",
       "      <td>True</td>\n",
       "      <td>False</td>\n",
       "      <td>3.0</td>\n",
       "    </tr>\n",
       "    <tr>\n",
       "      <th>2</th>\n",
       "      <td>1/28/2020</td>\n",
       "      <td>sku023</td>\n",
       "      <td>1742713.52</td>\n",
       "      <td>storeA017</td>\n",
       "      <td>True</td>\n",
       "      <td>False</td>\n",
       "      <td>9.0</td>\n",
       "    </tr>\n",
       "    <tr>\n",
       "      <th>3</th>\n",
       "      <td>12/5/2019</td>\n",
       "      <td>sku024</td>\n",
       "      <td>4656476.03</td>\n",
       "      <td>storeA007</td>\n",
       "      <td>False</td>\n",
       "      <td>True</td>\n",
       "      <td>8.0</td>\n",
       "    </tr>\n",
       "    <tr>\n",
       "      <th>4</th>\n",
       "      <td>1/4/2020</td>\n",
       "      <td>sku025</td>\n",
       "      <td>4774574.30</td>\n",
       "      <td>storeA015</td>\n",
       "      <td>False</td>\n",
       "      <td>False</td>\n",
       "      <td>1.0</td>\n",
       "    </tr>\n",
       "  </tbody>\n",
       "</table>\n",
       "</div>"
      ],
      "text/plain": [
       "         date product_sku       price      store is_promo_item member_promo  \\\n",
       "0  11/29/2019      sku021   147454.56  storeA013         False         True   \n",
       "1   1/15/2020      sku022  4303058.84  storeA006          True        False   \n",
       "2   1/28/2020      sku023  1742713.52  storeA017          True        False   \n",
       "3   12/5/2019      sku024  4656476.03  storeA007         False         True   \n",
       "4    1/4/2020      sku025  4774574.30  storeA015         False        False   \n",
       "\n",
       "   quantity  \n",
       "0      18.0  \n",
       "1       3.0  \n",
       "2       9.0  \n",
       "3       8.0  \n",
       "4       1.0  "
      ]
     },
     "execution_count": 2,
     "metadata": {},
     "output_type": "execute_result"
    }
   ],
   "source": [
    "# Read the CSV files\n",
    "df = pd.read_csv(\"data.csv\")\n",
    "df.head()"
   ]
  },
  {
   "cell_type": "code",
   "execution_count": 3,
   "metadata": {},
   "outputs": [
    {
     "name": "stdout",
     "output_type": "stream",
     "text": [
      "<class 'pandas.core.frame.DataFrame'>\n",
      "RangeIndex: 2000 entries, 0 to 1999\n",
      "Data columns (total 7 columns):\n",
      "date             1954 non-null object\n",
      "product_sku      1900 non-null object\n",
      "price            1900 non-null float64\n",
      "store            1959 non-null object\n",
      "is_promo_item    1959 non-null object\n",
      "member_promo     1907 non-null object\n",
      "quantity         1959 non-null float64\n",
      "dtypes: float64(2), object(5)\n",
      "memory usage: 109.5+ KB\n"
     ]
    }
   ],
   "source": [
    "# Info\n",
    "df.info()"
   ]
  },
  {
   "cell_type": "code",
   "execution_count": 4,
   "metadata": {},
   "outputs": [
    {
     "data": {
      "text/plain": [
       "date              46\n",
       "product_sku      100\n",
       "price            100\n",
       "store             41\n",
       "is_promo_item     41\n",
       "member_promo      93\n",
       "quantity          41\n",
       "dtype: int64"
      ]
     },
     "execution_count": 4,
     "metadata": {},
     "output_type": "execute_result"
    }
   ],
   "source": [
    "# Check total missing data\n",
    "df.isnull().sum()"
   ]
  },
  {
   "cell_type": "code",
   "execution_count": 5,
   "metadata": {},
   "outputs": [],
   "source": [
    "# Fill the null data with mean\n",
    "df['quantity'].fillna(df['quantity'].mean(), inplace = True)\n",
    "df['price'].fillna(df['price'].mean(), inplace = True)"
   ]
  },
  {
   "cell_type": "code",
   "execution_count": 6,
   "metadata": {},
   "outputs": [
    {
     "data": {
      "text/plain": [
       "date              46\n",
       "product_sku      100\n",
       "price              0\n",
       "store             41\n",
       "is_promo_item     41\n",
       "member_promo      93\n",
       "quantity           0\n",
       "dtype: int64"
      ]
     },
     "execution_count": 6,
     "metadata": {},
     "output_type": "execute_result"
    }
   ],
   "source": [
    "# Check total missing data\n",
    "df.isnull().sum()"
   ]
  },
  {
   "cell_type": "code",
   "execution_count": 7,
   "metadata": {},
   "outputs": [
    {
     "data": {
      "text/html": [
       "<div>\n",
       "<style scoped>\n",
       "    .dataframe tbody tr th:only-of-type {\n",
       "        vertical-align: middle;\n",
       "    }\n",
       "\n",
       "    .dataframe tbody tr th {\n",
       "        vertical-align: top;\n",
       "    }\n",
       "\n",
       "    .dataframe thead th {\n",
       "        text-align: right;\n",
       "    }\n",
       "</style>\n",
       "<table border=\"1\" class=\"dataframe\">\n",
       "  <thead>\n",
       "    <tr style=\"text-align: right;\">\n",
       "      <th></th>\n",
       "      <th>date</th>\n",
       "      <th>product_sku</th>\n",
       "      <th>price</th>\n",
       "      <th>store</th>\n",
       "      <th>is_promo_item</th>\n",
       "      <th>member_promo</th>\n",
       "      <th>quantity</th>\n",
       "    </tr>\n",
       "  </thead>\n",
       "  <tbody>\n",
       "    <tr>\n",
       "      <th>203</th>\n",
       "      <td>2019-11-01</td>\n",
       "      <td>sku038</td>\n",
       "      <td>4030055.14</td>\n",
       "      <td>storeA023</td>\n",
       "      <td>False</td>\n",
       "      <td>False</td>\n",
       "      <td>4.0</td>\n",
       "    </tr>\n",
       "    <tr>\n",
       "      <th>1504</th>\n",
       "      <td>2019-11-01</td>\n",
       "      <td>sku029</td>\n",
       "      <td>545944.15</td>\n",
       "      <td>storeA009</td>\n",
       "      <td>True</td>\n",
       "      <td>True</td>\n",
       "      <td>19.0</td>\n",
       "    </tr>\n",
       "    <tr>\n",
       "      <th>417</th>\n",
       "      <td>2019-11-01</td>\n",
       "      <td>sku035</td>\n",
       "      <td>3487469.46</td>\n",
       "      <td>storeA015</td>\n",
       "      <td>True</td>\n",
       "      <td>False</td>\n",
       "      <td>10.0</td>\n",
       "    </tr>\n",
       "    <tr>\n",
       "      <th>729</th>\n",
       "      <td>2019-11-01</td>\n",
       "      <td>sku037</td>\n",
       "      <td>2279210.57</td>\n",
       "      <td>storeA015</td>\n",
       "      <td>True</td>\n",
       "      <td>True</td>\n",
       "      <td>7.0</td>\n",
       "    </tr>\n",
       "    <tr>\n",
       "      <th>792</th>\n",
       "      <td>2019-11-01</td>\n",
       "      <td>sku038</td>\n",
       "      <td>181585.04</td>\n",
       "      <td>storeA012</td>\n",
       "      <td>True</td>\n",
       "      <td>True</td>\n",
       "      <td>2.0</td>\n",
       "    </tr>\n",
       "  </tbody>\n",
       "</table>\n",
       "</div>"
      ],
      "text/plain": [
       "           date product_sku       price      store is_promo_item member_promo  \\\n",
       "203  2019-11-01      sku038  4030055.14  storeA023         False        False   \n",
       "1504 2019-11-01      sku029   545944.15  storeA009          True         True   \n",
       "417  2019-11-01      sku035  3487469.46  storeA015          True        False   \n",
       "729  2019-11-01      sku037  2279210.57  storeA015          True         True   \n",
       "792  2019-11-01      sku038   181585.04  storeA012          True         True   \n",
       "\n",
       "      quantity  \n",
       "203        4.0  \n",
       "1504      19.0  \n",
       "417       10.0  \n",
       "729        7.0  \n",
       "792        2.0  "
      ]
     },
     "execution_count": 7,
     "metadata": {},
     "output_type": "execute_result"
    }
   ],
   "source": [
    "# Convert to date time format\n",
    "df['date'] = pd.to_datetime(df.date)\n",
    "df = df.sort_values(by=['date'])\n",
    "df.head()"
   ]
  },
  {
   "cell_type": "code",
   "execution_count": 8,
   "metadata": {},
   "outputs": [],
   "source": [
    "df['is_promo_item'] = df['is_promo_item'].fillna(method='ffill')\n",
    "df['member_promo'] = df['member_promo'].fillna(method='ffill')"
   ]
  },
  {
   "cell_type": "code",
   "execution_count": 9,
   "metadata": {},
   "outputs": [
    {
     "data": {
      "text/plain": [
       "date              46\n",
       "product_sku      100\n",
       "price              0\n",
       "store             41\n",
       "is_promo_item      0\n",
       "member_promo       0\n",
       "quantity           0\n",
       "dtype: int64"
      ]
     },
     "execution_count": 9,
     "metadata": {},
     "output_type": "execute_result"
    }
   ],
   "source": [
    "# Check total missing data\n",
    "df.isnull().sum()"
   ]
  },
  {
   "cell_type": "code",
   "execution_count": 10,
   "metadata": {},
   "outputs": [
    {
     "data": {
      "text/html": [
       "<div>\n",
       "<style scoped>\n",
       "    .dataframe tbody tr th:only-of-type {\n",
       "        vertical-align: middle;\n",
       "    }\n",
       "\n",
       "    .dataframe tbody tr th {\n",
       "        vertical-align: top;\n",
       "    }\n",
       "\n",
       "    .dataframe thead th {\n",
       "        text-align: right;\n",
       "    }\n",
       "</style>\n",
       "<table border=\"1\" class=\"dataframe\">\n",
       "  <thead>\n",
       "    <tr style=\"text-align: right;\">\n",
       "      <th></th>\n",
       "      <th>date</th>\n",
       "      <th>product_sku</th>\n",
       "      <th>price</th>\n",
       "      <th>store</th>\n",
       "      <th>is_promo_item</th>\n",
       "      <th>member_promo</th>\n",
       "      <th>quantity</th>\n",
       "    </tr>\n",
       "  </thead>\n",
       "  <tbody>\n",
       "    <tr>\n",
       "      <th>203</th>\n",
       "      <td>2019-11-01</td>\n",
       "      <td>sku038</td>\n",
       "      <td>4030055.14</td>\n",
       "      <td>storeA023</td>\n",
       "      <td>0</td>\n",
       "      <td>0</td>\n",
       "      <td>4.0</td>\n",
       "    </tr>\n",
       "    <tr>\n",
       "      <th>1504</th>\n",
       "      <td>2019-11-01</td>\n",
       "      <td>sku029</td>\n",
       "      <td>545944.15</td>\n",
       "      <td>storeA009</td>\n",
       "      <td>1</td>\n",
       "      <td>1</td>\n",
       "      <td>19.0</td>\n",
       "    </tr>\n",
       "    <tr>\n",
       "      <th>417</th>\n",
       "      <td>2019-11-01</td>\n",
       "      <td>sku035</td>\n",
       "      <td>3487469.46</td>\n",
       "      <td>storeA015</td>\n",
       "      <td>1</td>\n",
       "      <td>0</td>\n",
       "      <td>10.0</td>\n",
       "    </tr>\n",
       "    <tr>\n",
       "      <th>729</th>\n",
       "      <td>2019-11-01</td>\n",
       "      <td>sku037</td>\n",
       "      <td>2279210.57</td>\n",
       "      <td>storeA015</td>\n",
       "      <td>1</td>\n",
       "      <td>1</td>\n",
       "      <td>7.0</td>\n",
       "    </tr>\n",
       "    <tr>\n",
       "      <th>792</th>\n",
       "      <td>2019-11-01</td>\n",
       "      <td>sku038</td>\n",
       "      <td>181585.04</td>\n",
       "      <td>storeA012</td>\n",
       "      <td>1</td>\n",
       "      <td>1</td>\n",
       "      <td>2.0</td>\n",
       "    </tr>\n",
       "  </tbody>\n",
       "</table>\n",
       "</div>"
      ],
      "text/plain": [
       "           date product_sku       price      store  is_promo_item  \\\n",
       "203  2019-11-01      sku038  4030055.14  storeA023              0   \n",
       "1504 2019-11-01      sku029   545944.15  storeA009              1   \n",
       "417  2019-11-01      sku035  3487469.46  storeA015              1   \n",
       "729  2019-11-01      sku037  2279210.57  storeA015              1   \n",
       "792  2019-11-01      sku038   181585.04  storeA012              1   \n",
       "\n",
       "      member_promo  quantity  \n",
       "203              0       4.0  \n",
       "1504             1      19.0  \n",
       "417              0      10.0  \n",
       "729              1       7.0  \n",
       "792              1       2.0  "
      ]
     },
     "execution_count": 10,
     "metadata": {},
     "output_type": "execute_result"
    }
   ],
   "source": [
    "df['is_promo_item'] = df['is_promo_item'].astype(int)\n",
    "df['member_promo'] = df['member_promo'].astype(int)\n",
    "df.head()"
   ]
  },
  {
   "cell_type": "code",
   "execution_count": 11,
   "metadata": {},
   "outputs": [
    {
     "data": {
      "text/plain": [
       "date              46\n",
       "product_sku      100\n",
       "price              0\n",
       "store             41\n",
       "is_promo_item      0\n",
       "member_promo       0\n",
       "quantity           0\n",
       "dtype: int64"
      ]
     },
     "execution_count": 11,
     "metadata": {},
     "output_type": "execute_result"
    }
   ],
   "source": [
    "# Check total missing data\n",
    "df.isnull().sum()"
   ]
  },
  {
   "cell_type": "code",
   "execution_count": 12,
   "metadata": {},
   "outputs": [
    {
     "name": "stdout",
     "output_type": "stream",
     "text": [
      "2000\n",
      "2000\n",
      "[nan, nan, nan, nan, nan, nan, nan, nan, nan, nan, nan, nan, nan, nan, nan, nan, nan, nan, nan, nan, nan, nan, nan, nan, nan, nan, nan, nan, nan, 'sku047', nan, nan, nan, nan, nan, nan, nan, nan, nan, nan, nan, nan, nan, nan, nan, nan, nan, nan, nan, nan, nan, nan, nan, nan, nan, nan, nan, nan, nan, nan, nan, nan, nan, nan, nan, nan, nan, nan, nan, nan, nan, nan, nan, nan, nan, nan, nan, nan, nan, nan, nan, nan, nan, nan, nan, nan, nan, nan, nan, nan, nan, nan, nan, nan, nan, nan, nan, nan, nan, nan, nan]\n"
     ]
    }
   ],
   "source": [
    "data_temp1 = df['product_sku']\n",
    "data_temp2 = df['price']\n",
    "\n",
    "print(len(data_temp1))\n",
    "print(len(data_temp2))\n",
    "\n",
    "avg = df['price'].mean()\n",
    "\n",
    "candidate_sku = []\n",
    "\n",
    "for i in range(len(data_temp1)):\n",
    "    if data_temp2[i]+500 > avg and data_temp2[i]-500 < avg:\n",
    "        candidate_sku.append(data_temp1[i])\n",
    "        \n",
    "print(candidate_sku)"
   ]
  },
  {
   "cell_type": "code",
   "execution_count": 13,
   "metadata": {},
   "outputs": [],
   "source": [
    "# Fill with the candidate\n",
    "df['product_sku'] = df['product_sku'].fillna('sku047') "
   ]
  },
  {
   "cell_type": "code",
   "execution_count": 14,
   "metadata": {},
   "outputs": [
    {
     "data": {
      "text/plain": [
       "date             46\n",
       "product_sku       0\n",
       "price             0\n",
       "store            41\n",
       "is_promo_item     0\n",
       "member_promo      0\n",
       "quantity          0\n",
       "dtype: int64"
      ]
     },
     "execution_count": 14,
     "metadata": {},
     "output_type": "execute_result"
    }
   ],
   "source": [
    "# Check total missing data\n",
    "df.isnull().sum()"
   ]
  },
  {
   "cell_type": "code",
   "execution_count": 15,
   "metadata": {},
   "outputs": [
    {
     "name": "stdout",
     "output_type": "stream",
     "text": [
      "2000\n",
      "2000\n",
      "2000\n"
     ]
    }
   ],
   "source": [
    "# Handle the missing store\n",
    "data_temp1 = df['product_sku']\n",
    "data_temp2 = df['quantity']\n",
    "data_temp3 = df['store']\n",
    "\n",
    "print(len(data_temp1))\n",
    "print(len(data_temp2))\n",
    "\n",
    "temp = []\n",
    "\n",
    "def isNaN(string):\n",
    "    return string != string\n",
    "\n",
    "for i in range(len(data_temp1)):\n",
    "    if isNaN(data_temp3[i]):\n",
    "        cond = True\n",
    "        for j in range(len(data_temp1)):\n",
    "            if data_temp1[i] == data_temp1[j] and data_temp2[i] == data_temp2[j]:\n",
    "                if cond:\n",
    "                    temp.append(data_temp3[i])\n",
    "                    cond = False\n",
    "    else:\n",
    "        temp.append(data_temp3[i])\n",
    "        \n",
    "print(len(temp))"
   ]
  },
  {
   "cell_type": "code",
   "execution_count": 16,
   "metadata": {},
   "outputs": [],
   "source": [
    "df = df.dropna()"
   ]
  },
  {
   "cell_type": "code",
   "execution_count": 17,
   "metadata": {},
   "outputs": [
    {
     "data": {
      "text/plain": [
       "date             0\n",
       "product_sku      0\n",
       "price            0\n",
       "store            0\n",
       "is_promo_item    0\n",
       "member_promo     0\n",
       "quantity         0\n",
       "dtype: int64"
      ]
     },
     "execution_count": 17,
     "metadata": {},
     "output_type": "execute_result"
    }
   ],
   "source": [
    "# Check total missing data\n",
    "df.isnull().sum()"
   ]
  },
  {
   "cell_type": "code",
   "execution_count": 18,
   "metadata": {},
   "outputs": [
    {
     "data": {
      "text/plain": [
       "(1914, 7)"
      ]
     },
     "execution_count": 18,
     "metadata": {},
     "output_type": "execute_result"
    }
   ],
   "source": [
    "df.shape"
   ]
  },
  {
   "cell_type": "code",
   "execution_count": 19,
   "metadata": {},
   "outputs": [],
   "source": [
    "df=pd.concat([df,pd.get_dummies(df['store'],prefix='store')],axis=1).drop(['store'],axis=1)"
   ]
  },
  {
   "cell_type": "code",
   "execution_count": null,
   "metadata": {},
   "outputs": [],
   "source": [
    "df=pd.concat([df,pd.get_dummies(df['product_sku'],prefix='product_sku')],axis=1).drop(['product_sku'],axis=1)"
   ]
  },
  {
   "cell_type": "code",
   "execution_count": 20,
   "metadata": {},
   "outputs": [
    {
     "data": {
      "text/plain": [
       "(1914, 34)"
      ]
     },
     "execution_count": 20,
     "metadata": {},
     "output_type": "execute_result"
    }
   ],
   "source": [
    "df.shape"
   ]
  },
  {
   "cell_type": "code",
   "execution_count": 21,
   "metadata": {},
   "outputs": [],
   "source": [
    "# Split testing and training\n",
    "X = df.drop(columns=['quantity', 'date', 'product_sku']) # , axis = 1\n",
    "y = df['quantity']"
   ]
  },
  {
   "cell_type": "code",
   "execution_count": 22,
   "metadata": {},
   "outputs": [],
   "source": [
    "# Split training and testing\n",
    "from sklearn.model_selection import train_test_split\n",
    "X_train, X_test, y_train, y_test = train_test_split(X, y, test_size = 0.1, random_state = 0)"
   ]
  },
  {
   "cell_type": "code",
   "execution_count": 23,
   "metadata": {},
   "outputs": [],
   "source": [
    "# Adding Grid Search CV 2\n",
    "from sklearn.model_selection import GridSearchCV\n",
    "\n",
    "# Create the parameter grid based on the results of random search \n",
    "param_grid = {\n",
    "    'bootstrap': [True],\n",
    "    'max_depth': [90, 100],\n",
    "    'max_features': [2, 3],\n",
    "    'min_samples_leaf': [3, 5],\n",
    "    'min_samples_split': [8, 12],\n",
    "    'n_estimators': [300, 1000]\n",
    "}"
   ]
  },
  {
   "cell_type": "code",
   "execution_count": 24,
   "metadata": {},
   "outputs": [
    {
     "name": "stdout",
     "output_type": "stream",
     "text": [
      "Fitting 3 folds for each of 32 candidates, totalling 96 fits\n"
     ]
    },
    {
     "name": "stderr",
     "output_type": "stream",
     "text": [
      "[Parallel(n_jobs=-1)]: Using backend LokyBackend with 8 concurrent workers.\n",
      "[Parallel(n_jobs=-1)]: Done  25 tasks      | elapsed:    6.0s\n",
      "[Parallel(n_jobs=-1)]: Done  96 out of  96 | elapsed:   18.8s finished\n"
     ]
    },
    {
     "data": {
      "text/plain": [
       "GridSearchCV(cv=3, error_score=nan,\n",
       "             estimator=RandomForestRegressor(bootstrap=True, ccp_alpha=0.0,\n",
       "                                             criterion='mse', max_depth=None,\n",
       "                                             max_features='auto',\n",
       "                                             max_leaf_nodes=None,\n",
       "                                             max_samples=None,\n",
       "                                             min_impurity_decrease=0.0,\n",
       "                                             min_impurity_split=None,\n",
       "                                             min_samples_leaf=1,\n",
       "                                             min_samples_split=2,\n",
       "                                             min_weight_fraction_leaf=0.0,\n",
       "                                             n_estimators=100, n_jobs=None,\n",
       "                                             oob_score=False, random_state=None,\n",
       "                                             verbose=0, warm_start=False),\n",
       "             iid='deprecated', n_jobs=-1,\n",
       "             param_grid={'bootstrap': [True], 'max_depth': [90, 100],\n",
       "                         'max_features': [2, 3], 'min_samples_leaf': [3, 5],\n",
       "                         'min_samples_split': [8, 12],\n",
       "                         'n_estimators': [300, 1000]},\n",
       "             pre_dispatch='2*n_jobs', refit=True, return_train_score=False,\n",
       "             scoring=None, verbose=2)"
      ]
     },
     "execution_count": 24,
     "metadata": {},
     "output_type": "execute_result"
    }
   ],
   "source": [
    "# Train the model\n",
    "clf = RandomForestRegressor()\n",
    "grid_search = GridSearchCV(estimator = clf, param_grid = param_grid, \n",
    "                          cv = 3, n_jobs = -1, verbose = 2)\n",
    "grid_search.fit(X_train, y_train)"
   ]
  },
  {
   "cell_type": "code",
   "execution_count": 25,
   "metadata": {},
   "outputs": [
    {
     "name": "stdout",
     "output_type": "stream",
     "text": [
      "best_acc =  -0.03351207189091099\n",
      "best_param =  {'max_depth': 90, 'min_samples_split': 12, 'bootstrap': True, 'n_estimators': 300, 'min_samples_leaf': 5, 'max_features': 2}\n"
     ]
    }
   ],
   "source": [
    "best_acc = grid_search.best_score_\n",
    "best_param = grid_search.best_params_\n",
    "print(\"best_acc = \", best_acc)\n",
    "print(\"best_param = \", best_param)"
   ]
  },
  {
   "cell_type": "code",
   "execution_count": 26,
   "metadata": {},
   "outputs": [
    {
     "name": "stderr",
     "output_type": "stream",
     "text": [
      "[Parallel(n_jobs=1)]: Using backend SequentialBackend with 1 concurrent workers.\n",
      "[Parallel(n_jobs=1)]: Done 1000 out of 1000 | elapsed:    1.1s finished\n"
     ]
    },
    {
     "data": {
      "text/plain": [
       "RandomForestRegressor(bootstrap=True, ccp_alpha=0.0, criterion='mse',\n",
       "                      max_depth=90, max_features=3, max_leaf_nodes=None,\n",
       "                      max_samples=None, min_impurity_decrease=0.0,\n",
       "                      min_impurity_split=None, min_samples_leaf=3,\n",
       "                      min_samples_split=8, min_weight_fraction_leaf=0.0,\n",
       "                      n_estimators=1000, n_jobs=None, oob_score=False,\n",
       "                      random_state=None, verbose=1, warm_start=False)"
      ]
     },
     "execution_count": 26,
     "metadata": {},
     "output_type": "execute_result"
    }
   ],
   "source": [
    "clf = RandomForestRegressor(n_estimators = 1000,  verbose=1, bootstrap = True, max_depth = 90, max_features = 3, min_samples_leaf = 3, min_samples_split=8)\n",
    "clf.fit(X_train, y_train)"
   ]
  },
  {
   "cell_type": "code",
   "execution_count": 27,
   "metadata": {},
   "outputs": [
    {
     "name": "stderr",
     "output_type": "stream",
     "text": [
      "[Parallel(n_jobs=1)]: Using backend SequentialBackend with 1 concurrent workers.\n",
      "[Parallel(n_jobs=1)]: Done 1000 out of 1000 | elapsed:    0.1s finished\n"
     ]
    }
   ],
   "source": [
    "predicted = clf.predict(X_test)"
   ]
  },
  {
   "cell_type": "code",
   "execution_count": 28,
   "metadata": {},
   "outputs": [
    {
     "data": {
      "text/plain": [
       "array([[ 8.45904078],\n",
       "       [ 9.79489193],\n",
       "       [ 9.80027337],\n",
       "       [10.49628577],\n",
       "       [15.34865004],\n",
       "       [ 8.11589845],\n",
       "       [11.0238651 ],\n",
       "       [11.86457295],\n",
       "       [ 8.6003725 ],\n",
       "       [ 9.42466169],\n",
       "       [11.93077773],\n",
       "       [10.23507628],\n",
       "       [ 8.96578947],\n",
       "       [12.90533221],\n",
       "       [ 9.06185457],\n",
       "       [ 9.4094565 ],\n",
       "       [ 9.01412903],\n",
       "       [11.05833327],\n",
       "       [13.76937555],\n",
       "       [10.18152864],\n",
       "       [11.39652639],\n",
       "       [10.98074208],\n",
       "       [10.42807844],\n",
       "       [12.71310565],\n",
       "       [ 9.55172987],\n",
       "       [ 8.59092759],\n",
       "       [10.61842755],\n",
       "       [ 9.95386132],\n",
       "       [11.36416822],\n",
       "       [ 7.15800276],\n",
       "       [10.61640757],\n",
       "       [11.91567191],\n",
       "       [10.57573463],\n",
       "       [12.22245348],\n",
       "       [13.64711809],\n",
       "       [14.18845705],\n",
       "       [11.13949381],\n",
       "       [ 9.08646269],\n",
       "       [11.29536088],\n",
       "       [ 9.66640419],\n",
       "       [ 8.55965348],\n",
       "       [ 9.04289628],\n",
       "       [ 9.70349948],\n",
       "       [ 7.20315998],\n",
       "       [ 9.759209  ],\n",
       "       [12.41802944],\n",
       "       [ 9.31450693],\n",
       "       [10.87422985],\n",
       "       [ 8.94091372],\n",
       "       [11.38459839],\n",
       "       [12.19026868],\n",
       "       [11.37637678],\n",
       "       [12.33168494],\n",
       "       [ 9.66650334],\n",
       "       [12.35012366],\n",
       "       [ 9.88125293],\n",
       "       [10.54682232],\n",
       "       [11.00724566],\n",
       "       [ 7.82024473],\n",
       "       [10.4415321 ],\n",
       "       [10.29576309],\n",
       "       [12.2988934 ],\n",
       "       [12.27613087],\n",
       "       [11.67273098],\n",
       "       [10.8052178 ],\n",
       "       [ 8.10567401],\n",
       "       [11.54900225],\n",
       "       [ 9.09921879],\n",
       "       [ 9.7006656 ],\n",
       "       [11.76121604],\n",
       "       [ 9.35251813],\n",
       "       [11.04876711],\n",
       "       [11.17384302],\n",
       "       [11.22599904],\n",
       "       [10.62495229],\n",
       "       [13.44057597],\n",
       "       [10.55265077],\n",
       "       [11.49297403],\n",
       "       [10.72965411],\n",
       "       [11.79191327],\n",
       "       [10.14173969],\n",
       "       [ 8.32760052],\n",
       "       [11.34793689],\n",
       "       [13.11003597],\n",
       "       [10.22918741],\n",
       "       [11.51297944],\n",
       "       [ 8.26441669],\n",
       "       [10.89949394],\n",
       "       [ 8.09750814],\n",
       "       [ 9.36247469],\n",
       "       [11.30569533],\n",
       "       [ 9.32202725],\n",
       "       [ 8.28415473],\n",
       "       [ 8.97570533],\n",
       "       [11.40069952],\n",
       "       [15.33712251],\n",
       "       [11.4095176 ],\n",
       "       [ 9.44002492],\n",
       "       [ 8.04168391],\n",
       "       [ 9.72456723],\n",
       "       [10.49056742],\n",
       "       [10.56710567],\n",
       "       [11.03246727],\n",
       "       [11.64347567],\n",
       "       [10.55855672],\n",
       "       [11.2703445 ],\n",
       "       [14.73969928],\n",
       "       [11.14925794],\n",
       "       [13.09523199],\n",
       "       [ 8.63944819],\n",
       "       [ 8.8462069 ],\n",
       "       [11.85303623],\n",
       "       [ 9.69192631],\n",
       "       [ 9.17803263],\n",
       "       [12.32049296],\n",
       "       [ 9.26709644],\n",
       "       [13.9054044 ],\n",
       "       [ 9.55659139],\n",
       "       [10.2987111 ],\n",
       "       [11.20500676],\n",
       "       [13.63096874],\n",
       "       [ 9.32959697],\n",
       "       [ 9.51667317],\n",
       "       [10.62263345],\n",
       "       [10.70667177],\n",
       "       [12.98722108],\n",
       "       [11.4285533 ],\n",
       "       [ 9.9562437 ],\n",
       "       [12.31158882],\n",
       "       [12.6793084 ],\n",
       "       [ 8.34843667],\n",
       "       [10.78013939],\n",
       "       [ 9.37975614],\n",
       "       [ 8.82064692],\n",
       "       [ 9.47658739],\n",
       "       [11.58716773],\n",
       "       [ 8.08452419],\n",
       "       [ 9.1584753 ],\n",
       "       [10.01168123],\n",
       "       [11.95477213],\n",
       "       [10.21090009],\n",
       "       [10.4278868 ],\n",
       "       [11.71027755],\n",
       "       [ 9.85414585],\n",
       "       [ 8.37041123],\n",
       "       [11.5254367 ],\n",
       "       [10.92614938],\n",
       "       [ 8.21494585],\n",
       "       [10.85960765],\n",
       "       [10.29645456],\n",
       "       [ 8.53033891],\n",
       "       [11.66541013],\n",
       "       [ 8.49198596],\n",
       "       [ 8.42659022],\n",
       "       [12.16277217],\n",
       "       [11.83583653],\n",
       "       [10.50464691],\n",
       "       [11.25553871],\n",
       "       [10.43747909],\n",
       "       [ 9.42998841],\n",
       "       [11.60995618],\n",
       "       [ 9.94760369],\n",
       "       [12.12756981],\n",
       "       [10.66004466],\n",
       "       [10.39342844],\n",
       "       [ 9.87693799],\n",
       "       [11.43525844],\n",
       "       [ 9.69622285],\n",
       "       [12.19688528],\n",
       "       [10.25301801],\n",
       "       [11.76216183],\n",
       "       [11.00968995],\n",
       "       [ 8.17250132],\n",
       "       [ 7.86311244],\n",
       "       [ 9.80497514],\n",
       "       [10.1539844 ],\n",
       "       [12.11253894],\n",
       "       [ 9.62833836],\n",
       "       [11.56239867],\n",
       "       [ 9.33239474],\n",
       "       [11.96332502],\n",
       "       [10.56778344],\n",
       "       [ 9.99146841],\n",
       "       [ 7.99767562],\n",
       "       [10.57825313],\n",
       "       [11.11798276],\n",
       "       [12.37966382],\n",
       "       [10.92069468],\n",
       "       [ 8.97805651],\n",
       "       [ 9.88709513],\n",
       "       [ 8.36650607],\n",
       "       [11.31960492]])"
      ]
     },
     "execution_count": 28,
     "metadata": {},
     "output_type": "execute_result"
    }
   ],
   "source": [
    "predicted.reshape(-1,1)"
   ]
  },
  {
   "cell_type": "code",
   "execution_count": 29,
   "metadata": {},
   "outputs": [],
   "source": [
    "compare = np.concatenate((predicted.reshape(len(predicted), 1), y_test.values.reshape(len(y_test), 1)), 1)"
   ]
  },
  {
   "cell_type": "code",
   "execution_count": 30,
   "metadata": {},
   "outputs": [
    {
     "name": "stdout",
     "output_type": "stream",
     "text": [
      "error =  4.973012724190936\n"
     ]
    }
   ],
   "source": [
    "def calculate_error(test_y, predicted):\n",
    "    return mean_absolute_error(test_y, predicted)\n",
    "\n",
    "error = calculate_error(y_test, predicted)\n",
    "\n",
    "print(\"error = \", error)"
   ]
  },
  {
   "cell_type": "code",
   "execution_count": 31,
   "metadata": {},
   "outputs": [
    {
     "data": {
      "image/png": "[encoded data removed]",
      "text/plain": [
       "<Figure size 432x288 with 1 Axes>"
      ]
     },
     "metadata": {
      "needs_background": "light"
     },
     "output_type": "display_data"
    }
   ],
   "source": [
    "pred = predicted[:100]\n",
    "gt = y_test[:100]\n",
    "plt.plot(range(len(pred)), pred, label = 'Pred')\n",
    "plt.plot(range(len(gt)), gt, label = 'GT')\n",
    "plt.xlabel('Time')\n",
    "plt.ylabel('Sales')\n",
    "plt.legend()\n",
    "plt.show()"
   ]
  },
  {
   "cell_type": "code",
   "execution_count": 32,
   "metadata": {},
   "outputs": [
    {
     "name": "stdout",
     "output_type": "stream",
     "text": [
      "error =  4.973012724190936\n"
     ]
    }
   ],
   "source": [
    "def calculate_error(test_y, predicted):\n",
    "    return mean_absolute_error(test_y, predicted)\n",
    "\n",
    "error = calculate_error(y_test, predicted)\n",
    "\n",
    "print(\"error = \", error)"
   ]
  },
  {
   "cell_type": "code",
   "execution_count": 33,
   "metadata": {},
   "outputs": [
    {
     "name": "stdout",
     "output_type": "stream",
     "text": [
      "r2 =  -0.05825556879905913\n"
     ]
    }
   ],
   "source": [
    "from sklearn.metrics import r2_score\n",
    "\n",
    "r2 = r2_score(y_test, predicted)\n",
    "\n",
    "print(\"r2 = \", r2)"
   ]
  },
  {
   "cell_type": "code",
   "execution_count": null,
   "metadata": {},
   "outputs": [],
   "source": []
  },
  {
   "cell_type": "code",
   "execution_count": null,
   "metadata": {},
   "outputs": [],
   "source": []
  }
 ],
 "metadata": {
  "kernelspec": {
   "display_name": "Python 3",
   "language": "python",
   "name": "python3"
  },
  "language_info": {
   "codemirror_mode": {
    "name": "ipython",
    "version": 3
   },
   "file_extension": ".py",
   "mimetype": "text/x-python",
   "name": "python",
   "nbconvert_exporter": "python",
   "pygments_lexer": "ipython3",
   "version": "3.5.2"
  }
 },
 "nbformat": 4,
 "nbformat_minor": 2
}
